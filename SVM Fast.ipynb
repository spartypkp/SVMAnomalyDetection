{
 "cells": [
  {
   "cell_type": "code",
   "execution_count": 8,
   "id": "1a74832b",
   "metadata": {},
   "outputs": [],
   "source": [
    "import matplotlib.pyplot as plt\n",
    "import pandas as pd\n",
    "import numpy as np\n",
    "from scipy.io import loadmat\n",
    "\n",
    "from sklearn import svm\n",
    "\n",
    "plt.style.use('https://raw.githubusercontent.com/TDAmeritrade/stumpy/main/docs/stumpy.mplstyle')"
   ]
  },
  {
   "cell_type": "code",
   "execution_count": 9,
   "id": "5cb0eeac",
   "metadata": {},
   "outputs": [],
   "source": [
    "# Load in the data as a dictionary\n",
    "Kol=loadmat('Kol_Label.mat')\n",
    "# Separate keys of the dictionary\n",
    "KE = Kol['KE']\n",
    "w_raw = Kol['w']\n",
    "state = Kol['state']"
   ]
  },
  {
   "cell_type": "code",
   "execution_count": 3,
   "id": "b1218701",
   "metadata": {},
   "outputs": [],
   "source": [
    "test_size = 85000\n",
    "train_size = 10000\n",
    "\n",
    "state=state.squeeze()\n",
    "state=state[1:]\n",
    "[M,N1,N2]=w_raw.shape\n",
    "w=w_raw.reshape(M,-1)\n",
    "w=w[1:]\n",
    "w_train = w[0:train_size,] \n",
    "w_test = w[train_size:train_size+test_size,]"
   ]
  },
  {
   "cell_type": "code",
   "execution_count": 4,
   "id": "1f7e883f",
   "metadata": {},
   "outputs": [],
   "source": [
    "model_rbf = svm.OneClassSVM(kernel = 'rbf').fit(w_train)\n",
    "y_pred_rbf = model_rbf.predict(w_test)\n"
   ]
  },
  {
   "cell_type": "code",
   "execution_count": 5,
   "id": "2454c737",
   "metadata": {},
   "outputs": [
    {
     "name": "stdout",
     "output_type": "stream",
     "text": [
      "RBF Kernel Predictions\n",
      "44216 normal, 40784 anomalous.\n"
     ]
    }
   ],
   "source": [
    "normal_rbf = y_pred_rbf[y_pred_rbf==1]\n",
    "anomalous_rbf = y_pred_rbf[y_pred_rbf==-1]\n",
    "print(\"RBF Kernel Predictions\")\n",
    "print(\"{} normal, {} anomalous.\".format(len(normal_rbf), len(anomalous_rbf)))"
   ]
  },
  {
   "cell_type": "code",
   "execution_count": 6,
   "id": "d9a0a715",
   "metadata": {},
   "outputs": [],
   "source": [
    "indexes_rbf = []\n",
    "KE_vals_rbf = []\n",
    "state_rbf = []\n",
    "\n",
    "for i in range(train_size, test_size+train_size):\n",
    "    if y_pred_rbf[i-train_size] == -1:\n",
    "        indexes_rbf.append(i-train_size)\n",
    "        KE_vals_rbf.append(Kol['KE'][0][i])\n",
    "        state_rbf.append(Kol['state'][0][i])\n"
   ]
  },
  {
   "cell_type": "code",
   "execution_count": 7,
   "id": "0761eed3",
   "metadata": {},
   "outputs": [
    {
     "name": "stdout",
     "output_type": "stream",
     "text": [
      "Accuracy of the RBF SVM Kernel: 84.52705882352942%\n"
     ]
    }
   ],
   "source": [
    "correct_states = state[train_size:train_size+test_size]\n",
    "correct_states = [-1 if x==1 else x for x in correct_states]\n",
    "correct_states = [1 if x==0 else x for x in correct_states]\n",
    "\n",
    "n_correct_rbf = 0\n",
    "for i in range(0, test_size):\n",
    "    if correct_states[i] == y_pred_rbf[i]:\n",
    "        n_correct_rbf += 1\n",
    "print(\"Accuracy of the RBF SVM Kernel: {}%\".format(n_correct_rbf/test_size*100))"
   ]
  },
  {
   "cell_type": "code",
   "execution_count": null,
   "id": "2bbfbaee",
   "metadata": {},
   "outputs": [],
   "source": []
  }
 ],
 "metadata": {
  "kernelspec": {
   "display_name": "Python 3 (ipykernel)",
   "language": "python",
   "name": "python3"
  },
  "language_info": {
   "codemirror_mode": {
    "name": "ipython",
    "version": 3
   },
   "file_extension": ".py",
   "mimetype": "text/x-python",
   "name": "python",
   "nbconvert_exporter": "python",
   "pygments_lexer": "ipython3",
   "version": "3.9.12"
  }
 },
 "nbformat": 4,
 "nbformat_minor": 5
}
